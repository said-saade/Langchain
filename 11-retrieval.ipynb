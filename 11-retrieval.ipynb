{
 "cells": [
  {
   "cell_type": "code",
   "execution_count": 1,
   "metadata": {},
   "outputs": [],
   "source": [
    "from langchain_community.document_loaders.pdf import PyPDFLoader\n",
    "from langchain_text_splitters import RecursiveCharacterTextSplitter"
   ]
  },
  {
   "cell_type": "code",
   "execution_count": 2,
   "metadata": {},
   "outputs": [
    {
     "name": "stderr",
     "output_type": "stream",
     "text": [
      "Ignoring wrong pointing object 16 0 (offset 0)\n",
      "Ignoring wrong pointing object 18 0 (offset 0)\n",
      "Ignoring wrong pointing object 20 0 (offset 0)\n",
      "Ignoring wrong pointing object 22 0 (offset 0)\n",
      "Ignoring wrong pointing object 42 0 (offset 0)\n",
      "Ignoring wrong pointing object 50 0 (offset 0)\n",
      "Ignoring wrong pointing object 52 0 (offset 0)\n",
      "Ignoring wrong pointing object 54 0 (offset 0)\n",
      "Ignoring wrong pointing object 56 0 (offset 0)\n",
      "Ignoring wrong pointing object 58 0 (offset 0)\n",
      "Ignoring wrong pointing object 70 0 (offset 0)\n",
      "Ignoring wrong pointing object 72 0 (offset 0)\n",
      "Ignoring wrong pointing object 89 0 (offset 0)\n",
      "Ignoring wrong pointing object 91 0 (offset 0)\n",
      "Ignoring wrong pointing object 103 0 (offset 0)\n",
      "Ignoring wrong pointing object 108 0 (offset 0)\n",
      "Ignoring wrong pointing object 149 0 (offset 0)\n",
      "Ignoring wrong pointing object 155 0 (offset 0)\n",
      "Ignoring wrong pointing object 158 0 (offset 0)\n",
      "Ignoring wrong pointing object 160 0 (offset 0)\n",
      "Ignoring wrong pointing object 163 0 (offset 0)\n",
      "Ignoring wrong pointing object 165 0 (offset 0)\n"
     ]
    }
   ],
   "source": [
    "caminhos = [\n",
    "    \"files/apostila.pdf\",\n",
    "    \"files/LLM.pdf\"\n",
    "    ]\n",
    "\n",
    "paginas = []\n",
    "\n",
    "for caminho in caminhos:\n",
    "    loader = PyPDFLoader(caminho)\n",
    "    paginas.extend(loader.load())\n",
    "\n",
    "recur_split = RecursiveCharacterTextSplitter(\n",
    "    chunk_size=500,\n",
    "    chunk_overlap=50,\n",
    "    separators=[\"\\n\\n\", \"\\n\", \".\", \" \", \"\"]\n",
    ")\n",
    "\n",
    "documents = recur_split.split_documents(paginas)"
   ]
  },
  {
   "cell_type": "code",
   "execution_count": 3,
   "metadata": {},
   "outputs": [],
   "source": [
    "for i, doc in enumerate(documents):\n",
    "    doc.metadata['source'] = doc.metadata['source'].replace('files/', '')\n",
    "    doc.metadata['doc_id'] = i"
   ]
  },
  {
   "cell_type": "code",
   "execution_count": 5,
   "metadata": {},
   "outputs": [
    {
     "data": {
      "text/plain": [
       "{'source': 'apostila.pdf', 'page': 1, 'doc_id': 2}"
      ]
     },
     "execution_count": 5,
     "metadata": {},
     "output_type": "execute_result"
    }
   ],
   "source": [
    "documents[2].metadata"
   ]
  },
  {
   "cell_type": "code",
   "execution_count": 6,
   "metadata": {},
   "outputs": [],
   "source": [
    "from langchain_openai import OpenAIEmbeddings\n",
    "from langchain_community.vectorstores.chroma import Chroma\n",
    "\n",
    "embeddings_model = OpenAIEmbeddings()"
   ]
  },
  {
   "cell_type": "code",
   "execution_count": 7,
   "metadata": {},
   "outputs": [],
   "source": [
    "diretorio = 'files/chroma_retrival_bd'\n",
    "\n",
    "vectordb = Chroma.from_documents(\n",
    "    documents=documents,\n",
    "    embedding=embeddings_model,\n",
    "    persist_directory=diretorio\n",
    ")"
   ]
  },
  {
   "cell_type": "markdown",
   "metadata": {},
   "source": [
    "### Semantic Search"
   ]
  },
  {
   "cell_type": "code",
   "execution_count": 8,
   "metadata": {},
   "outputs": [
    {
     "name": "stdout",
     "output_type": "stream",
     "text": [
      ". Se você quiser se aprofundar um pouco mais e expandir seus conhecimentos e compreensão dos fundamentos dos LLMs, recomendamos conferir nosso curso sobre LLMs. Você aprenderá como desenvolver aplicativos prontos para produção com LLMs e se aprofundará na teoria por trás dos modelos de fundação\n",
      "========{'doc_id': 141, 'page': 7, 'source': 'LLM.pdf'}\n",
      "\n",
      "PARTE  1 Introdução   Definição de LLM (tradução livre: grandes modelos de linguagem) LLMs são sistemas de IA desenvolvidos para processar e analisar enormes quantidades de dados de linguagem natural e, em seguida, usar essas informações para gerar respostas às solicitações dos usuários\n",
      "========{'doc_id': 101, 'page': 1, 'source': 'LLM.pdf'}\n",
      "\n",
      ". Conclusão e diretrizes gerais Em última análise, cada organização terá desafios únicos a superar, e não existe uma abordagem única para os LLMs. À medida que o mundo se torna mais orientado a dados, tudo, incluindo os LLMs, dependerá de uma base sólida de dados. Os LLMs são ferramentas incríveis, mas devem ser usados e implementados sobre essa base sólida de dados\n",
      "========{'doc_id': 136, 'page': 6, 'source': 'LLM.pdf'}\n",
      "\n"
     ]
    }
   ],
   "source": [
    "pergunta = \"O que é LLM?\"\n",
    "docs = vectordb.similarity_search(pergunta, k=3)\n",
    "for doc in docs:\n",
    "    print(doc.page_content)\n",
    "    print(f\"========{doc.metadata}\\n\")"
   ]
  },
  {
   "cell_type": "markdown",
   "metadata": {},
   "source": [
    "### Max Margina Relevance"
   ]
  },
  {
   "cell_type": "code",
   "execution_count": 9,
   "metadata": {},
   "outputs": [
    {
     "name": "stdout",
     "output_type": "stream",
     "text": [
      ". Se você quiser se aprofundar um pouco mais e expandir seus conhecimentos e compreensão dos fundamentos dos LLMs, recomendamos conferir nosso curso sobre LLMs. Você aprenderá como desenvolver aplicativos prontos para produção com LLMs e se aprofundará na teoria por trás dos modelos de fundação\n",
      "========{'doc_id': 141, 'page': 7, 'source': 'LLM.pdf'}\n",
      "\n",
      "E-BOOK Um guia compacto sobre Large Language Models (LLM)\n",
      "========{'doc_id': 99, 'page': 0, 'source': 'LLM.pdf'}\n",
      "\n",
      ".   ANÁLISE DE SENTIMENTO  Frequentemente, uma tarefa difícil de quantificar, os LLMs podem ajudar a analisar emoções e opiniões a partir de um texto. Isso pode ajudar as organizações a coletarem os dados e o feedback necessários para melhorar a satisfação dos clientes\n",
      "========{'doc_id': 120, 'page': 4, 'source': 'LLM.pdf'}\n",
      "\n"
     ]
    }
   ],
   "source": [
    "pergunta = \"O que é LLM?\"\n",
    "docs = vectordb.max_marginal_relevance_search(pergunta, k=3, fetch_k=10)\n",
    "for doc in docs:\n",
    "    print(doc.page_content)\n",
    "    print(f\"========{doc.metadata}\\n\")"
   ]
  },
  {
   "cell_type": "markdown",
   "metadata": {},
   "source": [
    "### FIltragem"
   ]
  },
  {
   "cell_type": "code",
   "execution_count": 10,
   "metadata": {},
   "outputs": [
    {
     "name": "stdout",
     "output_type": "stream",
     "text": [
      ".   Serviços proprietários Como o primeiro serviço amplamente disponível alimentado por LLM, o ChatGPT da OpenAI foi o catalisador explosivo que trouxe os LLMs para o mainstream. O ChatGPT fornece uma interface de usuário (ou API) em que os usuários podem enviar prompts para muitos modelos (GPT-3.5, GPT-4 e outros) e geralmente obter uma resposta rápida\n",
      "========{'doc_id': 126, 'page': 5, 'source': 'LLM.pdf'}\n",
      "\n",
      ".  2020 A OpenAI lançou o GPT-3, que se tornou o maior modelo com 175 bilhões de parâmetros e estabeleceu um novo referencial de desempenho para tarefas relacionadas à linguagem.  2022 O ChatGPT foi lançado, transformando o GPT-3 e modelos semelhantes em um serviço amplamente acessível aos usuários por meio de uma interface web, o que iniciou um aumento significativo na conscientização pública sobre LLMs e IA generativa\n",
      "========{'doc_id': 108, 'page': 2, 'source': 'LLM.pdf'}\n",
      "\n",
      ". MAIOR ACESSIBILIDADE  O lançamento do ChatGPT abriu as portas para qualquer pessoa com acesso à internet interagir com um dos LLMs mais avançados por meio de uma interface web simples. Isso trouxe os impressionantes avanços dos LLMs para o centro das atenções, uma vez que anteriormente esses modelos mais poderosos estavam disponíveis apenas para pesquisadores com recursos significativos e conhecimento técnico profundo\n",
      "========{'doc_id': 114, 'page': 3, 'source': 'LLM.pdf'}\n",
      "\n"
     ]
    }
   ],
   "source": [
    "pergunta = \"O que a apostila de LLM fala sobre a OpenAI e o ChatGPT?\"\n",
    "\n",
    "docs = vectordb.similarity_search(\n",
    "    pergunta,\n",
    "    k=3,\n",
    "    filter={\"source\": \"LLM.pdf\"}\n",
    ")\n",
    "for doc in docs:\n",
    "    print(doc.page_content)\n",
    "    print(f\"========{doc.metadata}\\n\")"
   ]
  },
  {
   "cell_type": "code",
   "execution_count": 11,
   "metadata": {},
   "outputs": [
    {
     "name": "stdout",
     "output_type": "stream",
     "text": [
      ".   Serviços proprietários Como o primeiro serviço amplamente disponível alimentado por LLM, o ChatGPT da OpenAI foi o catalisador explosivo que trouxe os LLMs para o mainstream. O ChatGPT fornece uma interface de usuário (ou API) em que os usuários podem enviar prompts para muitos modelos (GPT-3.5, GPT-4 e outros) e geralmente obter uma resposta rápida\n",
      "==========={'doc_id': 126, 'page': 5, 'source': 'LLM.pdf'}\n",
      "\n",
      "\n",
      ". MAIOR ACESSIBILIDADE  O lançamento do ChatGPT abriu as portas para qualquer pessoa com acesso à internet interagir com um dos LLMs mais avançados por meio de uma interface web simples. Isso trouxe os impressionantes avanços dos LLMs para o centro das atenções, uma vez que anteriormente esses modelos mais poderosos estavam disponíveis apenas para pesquisadores com recursos significativos e conhecimento técnico profundo\n",
      "==========={'doc_id': 114, 'page': 3, 'source': 'LLM.pdf'}\n",
      "\n",
      "\n",
      ". Comunidades como a Hugging Face reúnem centenas de milhares de modelos de contribuidores que podem ajudar a resolver muitos casos de uso específicos, como geração de texto, resumo e classificação. A comunidade de código aberto está rapidamente alcançando o desempenho dos modelos proprietários, mas ainda não conseguiu igualar o desempenho de algo como o GPT-4.\n",
      "==========={'doc_id': 131, 'page': 5, 'source': 'LLM.pdf'}\n",
      "\n",
      "\n"
     ]
    }
   ],
   "source": [
    "pergunta = 'O que a apostila de LLM fala sobre a OpenAI e o ChatGPT?'\n",
    "\n",
    "docs = vectordb.similarity_search(\n",
    "    pergunta, \n",
    "    k=3,\n",
    "    filter={'$and':\n",
    "            [{'source': {'$in': ['LLM.pdf']}},\n",
    "            {'page': {'$in': [3, 4, 5, 6]}}],\n",
    "            })\n",
    "for doc in docs:\n",
    "    print(doc.page_content)\n",
    "    print(f'==========={doc.metadata}\\n\\n')"
   ]
  },
  {
   "cell_type": "markdown",
   "metadata": {},
   "source": [
    "### LLM Aided Retrieval"
   ]
  },
  {
   "cell_type": "code",
   "execution_count": 12,
   "metadata": {},
   "outputs": [],
   "source": [
    "from langchain_openai.llms import OpenAI\n",
    "from langchain.retrievers.self_query.base import SelfQueryRetriever\n",
    "from langchain.chains.query_constructor.schema import AttributeInfo"
   ]
  },
  {
   "cell_type": "code",
   "execution_count": 13,
   "metadata": {},
   "outputs": [],
   "source": [
    "metadata_info = [\n",
    "    AttributeInfo(\n",
    "        name='source',\n",
    "        description='Nome da apostila de onde o texto original foi retirado. Pode ser \"apostila.pdf\" ou \"LLM.pdf\".',\n",
    "        type='string'\n",
    "    ),\n",
    "    AttributeInfo(\n",
    "        name='page',\n",
    "        description='A página da apostila de onde o texto foi extraído. Número da página.',\n",
    "        type='integer'\n",
    "    ),\n",
    "]\n"
   ]
  },
  {
   "cell_type": "code",
   "execution_count": 14,
   "metadata": {},
   "outputs": [],
   "source": [
    "document_description = 'Apostilas de informações'\n",
    "llm = OpenAI()\n",
    "retriever = SelfQueryRetriever.from_llm(\n",
    "    llm,\n",
    "    vectordb,\n",
    "    document_description,\n",
    "    metadata_info,\n",
    "    verbose=True\n",
    ")"
   ]
  },
  {
   "cell_type": "code",
   "execution_count": 15,
   "metadata": {},
   "outputs": [
    {
     "name": "stderr",
     "output_type": "stream",
     "text": [
      "d:\\Udemy\\2025\\langchain\\.venv\\Lib\\site-packages\\langchain_core\\_api\\deprecation.py:119: LangChainDeprecationWarning: The method `BaseRetriever.get_relevant_documents` was deprecated in langchain-core 0.1.46 and will be removed in 0.3.0. Use invoke instead.\n",
      "  warn_deprecated(\n"
     ]
    },
    {
     "name": "stdout",
     "output_type": "stream",
     "text": [
      ". Comunidades como a Hugging Face reúnem centenas de milhares de modelos de contribuidores que podem ajudar a resolver muitos casos de uso específicos, como geração de texto, resumo e classificação. A comunidade de código aberto está rapidamente alcançando o desempenho dos modelos proprietários, mas ainda não conseguiu igualar o desempenho de algo como o GPT-4.\n",
      "==========={'doc_id': 131, 'page': 5, 'source': 'LLM.pdf'}\n",
      "\n",
      "\n",
      ".  2020 A OpenAI lançou o GPT-3, que se tornou o maior modelo com 175 bilhões de parâmetros e estabeleceu um novo referencial de desempenho para tarefas relacionadas à linguagem.  2022 O ChatGPT foi lançado, transformando o GPT-3 e modelos semelhantes em um serviço amplamente acessível aos usuários por meio de uma interface web, o que iniciou um aumento significativo na conscientização pública sobre LLMs e IA generativa\n",
      "==========={'doc_id': 108, 'page': 2, 'source': 'LLM.pdf'}\n",
      "\n",
      "\n",
      ".   Serviços proprietários Como o primeiro serviço amplamente disponível alimentado por LLM, o ChatGPT da OpenAI foi o catalisador explosivo que trouxe os LLMs para o mainstream. O ChatGPT fornece uma interface de usuário (ou API) em que os usuários podem enviar prompts para muitos modelos (GPT-3.5, GPT-4 e outros) e geralmente obter uma resposta rápida\n",
      "==========={'doc_id': 126, 'page': 5, 'source': 'LLM.pdf'}\n",
      "\n",
      "\n",
      ".  2012 Os avanços em arquiteturas de deep learning e conjuntos de dados maiores levaram ao desenvolvimento do GPT (Transformadores Pré-treinados Generativos). 2018 O Google apresentou o BERT (Bidirectional Encoder Representations from Transformers), que foi um grande salto na arquitetura e abriu caminho para futuros grandes modelos de linguagem\n",
      "==========={'doc_id': 107, 'page': 2, 'source': 'LLM.pdf'}\n",
      "\n",
      "\n"
     ]
    }
   ],
   "source": [
    "pergunta = 'O que a apostila de LLM fala sobre a OpenAI, ChatGPT e Hugging Face?'\n",
    "\n",
    "docs = retriever.get_relevant_documents(pergunta)\n",
    "for doc in docs:\n",
    "    print(doc.page_content)\n",
    "    print(f'==========={doc.metadata}\\n\\n')"
   ]
  }
 ],
 "metadata": {
  "kernelspec": {
   "display_name": ".venv",
   "language": "python",
   "name": "python3"
  },
  "language_info": {
   "codemirror_mode": {
    "name": "ipython",
    "version": 3
   },
   "file_extension": ".py",
   "mimetype": "text/x-python",
   "name": "python",
   "nbconvert_exporter": "python",
   "pygments_lexer": "ipython3",
   "version": "3.11.5"
  }
 },
 "nbformat": 4,
 "nbformat_minor": 2
}
